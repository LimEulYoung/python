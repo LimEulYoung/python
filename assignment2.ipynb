{
 "cells": [
  {
   "cell_type": "markdown",
   "metadata": {},
   "source": [
    "#assignment2"
   ]
  },
  {
   "cell_type": "markdown",
   "metadata": {},
   "source": [
    "#복습과제"
   ]
  },
  {
   "cell_type": "markdown",
   "metadata": {},
   "source": [
    "문제① 다음 6 개의 Expression에 대해 Evaluation 결과 값을 출력하고, 해당 결과가 나온 이유에 대해 설명하시오\n",
    " \n",
    "▶ 1 and 2 and 3 and 4\n",
    "▶ 1 or 2 or 3 or 4\n",
    "▶ 1 and 2 or 3 and 4\n",
    "▶ (1 and 2) or (3 and 4)\n",
    "▶ 1 or 2 and 3 or 4\n",
    "▶ (1 or 2) and (3 or 4)"
   ]
  },
  {
   "cell_type": "code",
   "execution_count": 37,
   "metadata": {
    "collapsed": false
   },
   "outputs": [
    {
     "name": "stdout",
     "output_type": "stream",
     "text": [
      "4\n",
      "4\n",
      "4\n",
      "0\n",
      "True True True True False True\n"
     ]
    }
   ],
   "source": [
    "print 1 and 2 and 3 and 4\n",
    "print (1 and (2 and (3 and 4)))\n",
    "print (((1 and 2) and 3) and 4)\n",
    "print 0 and 0 and 9\n",
    "print bool(1), bool(2), bool(3), bool(4), bool(0), bool(-1)"
   ]
  },
  {
   "cell_type": "markdown",
   "metadata": {},
   "source": [
    "-> 정수형 변수는 0이 아니면 참 값을 가진다.\n",
    "\n",
    "-> and 연산자는 정수형일 경우 두개 모두 참일 경우에 오른쪽 피연산자를 반환해 준다.\n",
    "\n",
    "  => 결국엔 4가 출력된다."
   ]
  },
  {
   "cell_type": "code",
   "execution_count": 38,
   "metadata": {
    "collapsed": false
   },
   "outputs": [
    {
     "name": "stdout",
     "output_type": "stream",
     "text": [
      "1\n",
      "1\n",
      "1\n",
      "2\n"
     ]
    }
   ],
   "source": [
    "print 1 or 2 or 3 or 4\n",
    "print (((1 or 2) or 3) or 4)\n",
    "print (1 or (2 or (3 or 4)))\n",
    "\n",
    "\n",
    "print 2 or 3"
   ]
  },
  {
   "cell_type": "markdown",
   "metadata": {},
   "source": [
    "-> or 연산자에서 피연산자가 정수형이고 두개 모두 참일 경우에는 왼쪽의 피연산자를 반환한다.\n",
    "\n",
    "=> 결국엔 1이 출력된다."
   ]
  },
  {
   "cell_type": "code",
   "execution_count": 45,
   "metadata": {
    "collapsed": false
   },
   "outputs": [
    {
     "name": "stdout",
     "output_type": "stream",
     "text": [
      "2\n",
      "4\n",
      "4\n",
      "2\n",
      "4\n",
      "2\n"
     ]
    }
   ],
   "source": [
    "print 1 and 2 or 3 and 4\n",
    "print (((1 and 2) or 3) and 4)\n",
    "print ((1 and (2 or 3)) and 4)\n",
    "print ((1 and 2) or (3 and 4))\n",
    "print 1 and (2 or 3) and 4\n",
    "print (1 and 2) or (3 and 4)"
   ]
  },
  {
   "cell_type": "markdown",
   "metadata": {},
   "source": [
    "-> and 연산자가 or 연산자 보다 우선순위가 높다.\n",
    "\n",
    "-> (1 and 2) or (3 and 4) => 2 or 4 => 2\n",
    "\n",
    "=> 결국엔 2가 출력된다."
   ]
  },
  {
   "cell_type": "code",
   "execution_count": 47,
   "metadata": {
    "collapsed": false
   },
   "outputs": [
    {
     "name": "stdout",
     "output_type": "stream",
     "text": [
      "2\n",
      "2\n"
     ]
    }
   ],
   "source": [
    "print (1 and 2) or (3 and 4)\n",
    "print 1 and 2 or  3 and 4"
   ]
  },
  {
   "cell_type": "markdown",
   "metadata": {},
   "source": [
    "-> 위 문제와 동일하다. "
   ]
  },
  {
   "cell_type": "code",
   "execution_count": 49,
   "metadata": {
    "collapsed": false
   },
   "outputs": [
    {
     "name": "stdout",
     "output_type": "stream",
     "text": [
      "1\n",
      "1\n",
      "1\n"
     ]
    }
   ],
   "source": [
    "print 1 or 2 and 3 or 4\n",
    "print 1 or (2 and 3) or 4\n",
    "print 1 or 3 or 4"
   ]
  },
  {
   "cell_type": "markdown",
   "metadata": {},
   "source": [
    "-> 연산자 우선순위에 따라서(and가 or보다 우선순위가 높음) 1이 출력된다."
   ]
  },
  {
   "cell_type": "code",
   "execution_count": 50,
   "metadata": {
    "collapsed": false
   },
   "outputs": [
    {
     "name": "stdout",
     "output_type": "stream",
     "text": [
      "3\n",
      "3\n"
     ]
    }
   ],
   "source": [
    "print (1 or 2) and (3 or 4)\n",
    "print 1 and 3"
   ]
  },
  {
   "cell_type": "markdown",
   "metadata": {},
   "source": [
    "-> 연산자 우선순위에 따라서 3이 출력된다."
   ]
  },
  {
   "cell_type": "markdown",
   "metadata": {},
   "source": [
    "문제② 키보드로 정수값을 입력 받고 그 값이 양수인지 음수인지를 비트 연산자를 이용하여 판단하는 프로그램을 작성하시오."
   ]
  },
  {
   "cell_type": "code",
   "execution_count": null,
   "metadata": {
    "collapsed": false
   },
   "outputs": [],
   "source": [
    "#정수형 변수 a를 bit_length만큼 shift시키면 첫번째 오는 숫자가 음수(-1)인지 양수(0)인지 판별해 준다.\n",
    "\n",
    "a = raw_input(\"input a number:\")\n",
    "a= int(a)\n",
    "b = a.bit_length()\n",
    "b = a >> b\n",
    "print '음수' if b==-1 else '양수'"
   ]
  },
  {
   "cell_type": "markdown",
   "metadata": {},
   "source": [
    "문제③ 경로에 해당하는 문자열 1개를 입력 받아 그 안에 디렉토리 경로명과 파일명을 분리하여 리스트로 반환하는 함수 div_path(s)를 작성하시오."
   ]
  },
  {
   "cell_type": "code",
   "execution_count": 137,
   "metadata": {
    "collapsed": false
   },
   "outputs": [
    {
     "name": "stdout",
     "output_type": "stream",
     "text": [
      "/usr/local/bin/,python\n",
      "/home/chulsoo/,test.txt\n"
     ]
    }
   ],
   "source": [
    "#파일명은 디렉토리 뒤에 쓰이기 때문에 문자열을 뒤에서 부터 읽어서 '/'가 나오면 정지한다. 그리고 앞(디렉토리) 뒤(파일명)로 나눈다.\n",
    "\n",
    "def div_path(s):\n",
    "    a = len(s)\n",
    "    while s[a-1] != '/':\n",
    "        a = a -1\n",
    "    exe = s[:a-1:-1]\n",
    "    exe = exe[::-1]\n",
    "    direct = s[:a]\n",
    "    s = direct +\",\"+ exe\n",
    "    return s\n",
    "    \n",
    "    \n",
    "print div_path(\"/usr/local/bin/python\")\n",
    "print div_path('/home/chulsoo/test.txt')"
   ]
  },
  {
   "cell_type": "markdown",
   "metadata": {},
   "source": [
    "문제④  두 개의 리스트를 인자로 받아서 그 두 개의 리스트에 대한 '합집합'을 반환하는 함수 list_union(lista, listb)를 작성하시오."
   ]
  },
  {
   "cell_type": "code",
   "execution_count": 8,
   "metadata": {
    "collapsed": false
   },
   "outputs": [
    {
     "name": "stdout",
     "output_type": "stream",
     "text": [
      "[1, 2, 3, 4]\n",
      "[-10, -5, -1, 0, 9, 100]\n",
      "[0, 1, 2]\n"
     ]
    }
   ],
   "source": [
    "def list_union(s1, s2):\n",
    "    s = list(set(s1 + s2))\n",
    "    s.sort()\n",
    "    return s\n",
    "\n",
    "print list_union([1, 2, 3], [1, 2, 4])\n",
    "print list_union([-10, -5, 0, -1], [100, 9, 0, 9])\n",
    "print list_union([0, 1, 2], [0, 1, 2])"
   ]
  },
  {
   "cell_type": "markdown",
   "metadata": {},
   "source": [
    "#프로젝트 오일러"
   ]
  },
  {
   "cell_type": "markdown",
   "metadata": {},
   "source": [
    "프로젝트 오일러4"
   ]
  },
  {
   "cell_type": "code",
   "execution_count": 9,
   "metadata": {
    "collapsed": false
   },
   "outputs": [
    {
     "name": "stdout",
     "output_type": "stream",
     "text": [
      "906609\n"
     ]
    }
   ],
   "source": [
    "#두수의 곱이 대칭수 인지 판별하는 함수\n",
    "def return_palindrome(i,j):\n",
    "    a = str(i * j)\n",
    "    b = len(a)\n",
    "    if a[0:(b/2)] == a[b:b/2-1:-1]:\n",
    "        return True, a\n",
    "    else:\n",
    "        return False, a\n",
    "\n",
    "max_num = 0\n",
    "\n",
    "#대칭수를 구함\n",
    "for i in range(100,999):\n",
    "    for j in range(100,999):\n",
    "        a = return_palindrome(i,j)\n",
    "        if(a[0]):\n",
    "            if(a[1]>max_num):\n",
    "                max_num = a[1]\n",
    "        else:\n",
    "            pass\n",
    "\n",
    "print max_num"
   ]
  },
  {
   "cell_type": "markdown",
   "metadata": {},
   "source": [
    "프로젝트 오일러5"
   ]
  },
  {
   "cell_type": "code",
   "execution_count": 10,
   "metadata": {
    "collapsed": false
   },
   "outputs": [
    {
     "name": "stdout",
     "output_type": "stream",
     "text": [
      "232792560\n"
     ]
    }
   ],
   "source": [
    "def gcd_in(a, b):\n",
    "    if b==0 :\n",
    "        return a\n",
    "    else :\n",
    "        return gcd_in(b, a%b)\n",
    "\n",
    "#최대 굥약수 반환 함수    \n",
    "def return_gcd(a, b):\n",
    "    return gcd_in(max(a,b), min(a,b))\n",
    "\n",
    "\n",
    "#최소 공배수 반환 함수\n",
    "def return_lcm(a, b):\n",
    "    return a * b / return_gcd(a,b)\n",
    "\n",
    "result = 1\n",
    "\n",
    "for i in range(1,21):\n",
    "    result = return_lcm(result, i)\n",
    "    \n",
    "    \n",
    "print result"
   ]
  },
  {
   "cell_type": "markdown",
   "metadata": {},
   "source": [
    "프로젝트 오일러6"
   ]
  },
  {
   "cell_type": "code",
   "execution_count": 12,
   "metadata": {
    "collapsed": false
   },
   "outputs": [
    {
     "name": "stdout",
     "output_type": "stream",
     "text": [
      "25164150\n"
     ]
    }
   ],
   "source": [
    "a, b= 0,0\n",
    "\n",
    "#곱의 합을 반환\n",
    "for i in range(1,101):\n",
    "    a = a + (i*i)\n",
    "\n",
    "#합의 곱을 반환\n",
    "for i in range(1,101):\n",
    "    b = b + i\n",
    "\n",
    "b = b*b\n",
    "\n",
    "print b-a"
   ]
  },
  {
   "cell_type": "markdown",
   "metadata": {},
   "source": [
    "#Incremental Project"
   ]
  },
  {
   "cell_type": "markdown",
   "metadata": {
    "collapsed": true
   },
   "source": [
    "웹 URL로 지정된 웹페이지를 문자열로 가져와 1) 모든 HTML 태그를 제외한 순수 텍스트 문자열만을 걸러내고, 2) 그 순수 텍스트 문자열 안에 존재하는 단어가 총 몇개인지 출력하는 프로그램을 작성하시오. "
   ]
  },
  {
   "cell_type": "code",
   "execution_count": 7,
   "metadata": {
    "collapsed": false
   },
   "outputs": [
    {
     "name": "stdout",
     "output_type": "stream",
     "text": [
      "컴퓨터공학부//Schoolfun-StudyandFun--로그인로그인아이디비밀번호로그인유지브라우저를닫더라도로그인이계속유지될수있습니다.로그인유지기능을사용할경우다음접속부터는로그인할필요가없습니다.단,게임방,학교등공공장소에서이용시개인정보가유출될수있으니꼭로그아웃을해주세요.회원가입ID/PW찾기IT교육의글로벌메카!한국기술교육대학교컴퓨터공학부Close소개구성원소개학사안내입학학부대학원학부광장자료실대학원공학교육인증Registration컴퓨터공학부SchoolofComputerScienceandEngineeringIT융합소프트웨어인력양성사업CK(CreativeKorea)-I교육역량강화사업온라인컨텐츠OnlineContentsforEducationCapabilityEmpowermentIT교육의글로벌메카한국기술교육대학교컴퓨터공학부홈페이지에오신것을환영합니다!IT융합소프트웨어인력양성사업글로벌수준의IT전문인력양성IT융합분야에대한국제적인경쟁력고취바로가기교육역량강화사업컨텐츠교육역량강화사업온라인컨텐츠를소개합니다.바로가기공지사항[특성화]IT융합개도국해외기술지원봉사참가자모집...2015-10-0516:3816:38[특성화]장비대여안내2015-10-0515:2815:28제4회TOPCIT정기평가2015-10-0514:5614:56[특성화]국제게임전시회G-star2015참관안내2015-10-0511:5111:51졸업생멘토연계졸업작품운영팀모집공고(3학년팀...2015-10-0213:3713:37자유게시판(주)엔에스이에서개발자를모집합니다.2015-09-3013:3013:30졸업작품전시회컴퓨터공학부인기상투표이벤트2015-09-2501:2101:21삼성대학생프로그래밍경진대회2015-09-1511:1711:172015년4차모의토익지원2015-09-0923:3423:34난괜찮아,돌아가면되지~2015-09-0915:5115:51취업게시판[특성화](주)KMW인턴사원모집공고2015-09-2314:3114:31㈜인젠트기술연구소전문연구요원모집2015-09-1411:5411:54펜타인2015년도신입사원채용공고2015-09-0316:1616:16LIG인베니아(코스닥상장LIG그룹사디스플레이장비전...2015-09-0314:0114:01㈜한울소프트웨어개발자2015-06-1810:2810:28VENTURESQUARE한국의스타트업생태계에대해아르헨티나에알리다2015-10-0516:3216:32IHK옥토버해커페스트2015참관기“독일식해커톤도...2015-10-0515:1915:19여행도중현지가정식을맛보고싶다면?TravelingSpoon2015-10-0514:5714:57한국의스타트업-(205)마이창고손민재대표2015-10-0513:4713:47네이버‘지역검색’,테마별코스추천모델알고리즘적용2015-10-0511:1911:19전자신문2015SW보안컨퍼런스2015-10-0521:5821:58티빙,지상파송출중단사태맞나···서울지법,지상파...2015-10-0519:4319:43최양희미래부장관“국내외ICT전문가의견,정책에...2015-10-0518:0018:00한국,양자(Quantum)기술투자세계꼴찌수준2015-10-0518:0018:00[2015국정감사]KBS,난시청민원매년증가···예산은...2015-10-0518:0018:00RE/CODESonyandVerizonCancelLaunchofXperiaZ4vS...2015-10-0605:4805:48GoogleClosetoInvestmentinMessagingStartu...2015-10-0605:4705:47RussiatoGoogle:UnbundleAndroidorElse2015-10-0605:0205:02EMC’sDavidGouldenDefendsCompany’sFederati...2015-10-0605:0005:00AppleExecutivesMarkAnniversaryofSteveJob...2015-10-0603:4003:40BacktoTopLeadingTogetherforBrighterFuture--QuickNavigation한국기술교육대학교홈페이지한국기술교육대학교WEBMAIL한국기술교육대학교온라인평생교육원교육역량강화사업온라인컨텐츠컴퓨터공학부포트폴리오--IT융합소프트웨어인력양성사업CampusLocationContactCSE충청남도천안시동남구병천면충절로1600한국기술교육대학교컴퓨터공학부학과사무실TEL(041)5601460~1461FAX(041)5601462FacebookTwitterGooglePlusLinkedinYoutubeFlickr--(31253)충청남도천안시동남구병천면충절로1600(가전리,한국기술교육대학교)컴퓨터공학부Copyright©2015.Allrightsreserved\n",
      "\n",
      "단어의 총 갯수: 450\n"
     ]
    }
   ],
   "source": [
    "# -*- coding: utf-8 -*-\n",
    "import urllib2\n",
    "\n",
    "source = urllib2.urlopen(\"http://cse.kut.ac.kr/\").read()\n",
    "\n",
    "#pure text를 얻는 함수.\n",
    "def get_pure_text(s):\n",
    "    i = 0\n",
    "    text = ''\n",
    "    while(i<len(s)):\n",
    "        if(s[i] == '<'):\n",
    "            i = i+1\n",
    "            while(s[i] != '>'):\n",
    "                i = i +1\n",
    "        elif(s[i] == '>'):\n",
    "            i = i +1\n",
    "        else :\n",
    "            text = text + s[i]\n",
    "            i = i +1\n",
    "    return text\n",
    "\n",
    "#읽기 편하게 하기위한 필터링 함수.\n",
    "def show_text(s):\n",
    "    i = 0\n",
    "    text = ''\n",
    "    while(i<len(s)):\n",
    "        if(s[i] == ' '):\n",
    "            i = i + 1\n",
    "        elif(s[i] == '\\n'):\n",
    "            i = i + 1\n",
    "            \n",
    "        elif(s[i] == '\\t'):\n",
    "            i = i + 1\n",
    "        else:\n",
    "            text = text + s[i]\n",
    "            i = i + 1\n",
    "    return text\n",
    "    \n",
    "\n",
    "word = get_pure_text(source)\n",
    "print show_text(word)\n",
    "word = word.split() #단어를 쪼개는 메쏘드\n",
    "print \n",
    "print '단어의 총 갯수:', len(word) "
   ]
  }
 ],
 "metadata": {
  "kernelspec": {
   "display_name": "Python 2",
   "language": "python",
   "name": "python2"
  },
  "language_info": {
   "codemirror_mode": {
    "name": "ipython",
    "version": 2
   },
   "file_extension": ".py",
   "mimetype": "text/x-python",
   "name": "python",
   "nbconvert_exporter": "python",
   "pygments_lexer": "ipython2",
   "version": "2.7.9"
  }
 },
 "nbformat": 4,
 "nbformat_minor": 0
}
